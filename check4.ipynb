{
 "cells": [
  {
   "cell_type": "markdown",
   "id": "65e03db3",
   "metadata": {},
   "source": [
    "Q1"
   ]
  },
  {
   "cell_type": "code",
   "execution_count": 2,
   "id": "1ac9fac7",
   "metadata": {},
   "outputs": [
    {
     "name": "stdout",
     "output_type": "stream",
     "text": [
      "donner un 1 nbre20\n",
      "donner un 2 nbre35\n",
      "donner un 3 nbre19\n",
      "max : 35\n"
     ]
    }
   ],
   "source": [
    "x=int(input(\"donner un 1 nbre\"))\n",
    "y=int(input(\"donner un 2 nbre\"))\n",
    "z=int(input(\"donner un 3 nbre\"))\n",
    "def s (x,y,z) :\n",
    "    if x>y and x>z :\n",
    "        print (\"max :\",x)\n",
    "    elif y>x and y>z :\n",
    "        print (\"max :\",y)\n",
    "    else : \n",
    "        print (\"max :\",z)\n",
    "s(x,y,z)"
   ]
  },
  {
   "cell_type": "markdown",
   "id": "980573d5",
   "metadata": {},
   "source": [
    "Q2 M1"
   ]
  },
  {
   "cell_type": "code",
   "execution_count": 25,
   "id": "0b320eab",
   "metadata": {},
   "outputs": [
    {
     "name": "stdout",
     "output_type": "stream",
     "text": [
      "donner un 1 nbre40\n",
      "donner un 2 nbre10\n",
      "50 30\n"
     ]
    }
   ],
   "source": [
    "a=int(input(\"donner un 1 nbre\"))\n",
    "b=int(input(\"donner un 2 nbre\"))\n",
    "x= lambda a,b : a+b\n",
    "y= lambda a,b : a-b\n",
    "print(x(a,b),y(a,b))"
   ]
  },
  {
   "cell_type": "markdown",
   "id": "543879a4",
   "metadata": {},
   "source": [
    "Q2 M2"
   ]
  },
  {
   "cell_type": "code",
   "execution_count": 4,
   "id": "d7798816",
   "metadata": {},
   "outputs": [
    {
     "name": "stdout",
     "output_type": "stream",
     "text": [
      "donner un 1 nbre40\n",
      "donner un 2nbre10\n",
      "50 30\n"
     ]
    }
   ],
   "source": [
    "x=int(input(\"donner un 1 nbre\"))\n",
    "y=int(input(\"donner un 2nbre\"))\n",
    "def calcu(x,y) :\n",
    "    a=x+y\n",
    "    b=x-y\n",
    "    print(a,b)\n",
    "calcu(x,y)"
   ]
  },
  {
   "cell_type": "markdown",
   "id": "9829903d",
   "metadata": {},
   "source": [
    "Q3"
   ]
  },
  {
   "cell_type": "code",
   "execution_count": 17,
   "id": "1796bef5",
   "metadata": {},
   "outputs": [
    {
     "name": "stdout",
     "output_type": "stream",
     "text": [
      "Enter number of elements : 5\n",
      "donner un 3\n",
      "donner un 2\n",
      "donner un 3\n",
      "donner un 4\n",
      "donner un 5\n",
      "liste : [3, 2, 3, 4, 5]\n",
      "11\n",
      "8\n"
     ]
    }
   ],
   "source": [
    "s=[]\n",
    "n = int(input(\"Enter number of elements : \"))\n",
    "for i in range(0,n):\n",
    "    x=int(input(\"donner un \"))\n",
    "    s.append(x)\n",
    "print(\"liste :\",s)\n",
    "\n",
    "def mult(t):\n",
    "    x=1\n",
    "    for i in t :\n",
    "        x=x*i\n",
    "    return x \n",
    "\n",
    "def smm(t):\n",
    "    y=0\n",
    "    for i in t :\n",
    "        y=y+i\n",
    "    return y\n",
    "\n",
    "def lstp(t):\n",
    "    l=[]\n",
    "    for i in range (len(t)):\n",
    "        if i%2==0 :\n",
    "            l.append (t[i])\n",
    "    return l\n",
    "\n",
    "def lstimp(t):\n",
    "    r=[]\n",
    "    for i in range (len(t)):\n",
    "        if i%2!=0 :\n",
    "            r.append (t[i])\n",
    "    return r \n",
    "\n",
    "q=smm(lstp(s))\n",
    "print(q)\n",
    "z=mult(lstimp(s))\n",
    "print (z)"
   ]
  },
  {
   "cell_type": "markdown",
   "id": "b86a250f",
   "metadata": {},
   "source": [
    "Q4 "
   ]
  },
  {
   "cell_type": "code",
   "execution_count": 24,
   "id": "47764ab2",
   "metadata": {},
   "outputs": [
    {
     "name": "stdout",
     "output_type": "stream",
     "text": [
      "Enter a string: green-red-yellow-black-white\n",
      "black-green-red-white-yellow\n"
     ]
    }
   ],
   "source": [
    "ch = input(\"Enter a string: \")  \n",
    "words = ch.split(\"-\")  \n",
    "words.sort()  \n",
    "print (\"-\".join(words))"
   ]
  }
 ],
 "metadata": {
  "kernelspec": {
   "display_name": "Python 3",
   "language": "python",
   "name": "python3"
  },
  "language_info": {
   "codemirror_mode": {
    "name": "ipython",
    "version": 3
   },
   "file_extension": ".py",
   "mimetype": "text/x-python",
   "name": "python",
   "nbconvert_exporter": "python",
   "pygments_lexer": "ipython3",
   "version": "3.8.8"
  }
 },
 "nbformat": 4,
 "nbformat_minor": 5
}
